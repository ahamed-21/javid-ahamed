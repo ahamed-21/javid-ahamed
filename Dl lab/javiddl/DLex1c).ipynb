{
  "cells": [
    {
      "cell_type": "code",
      "execution_count": 2,
      "metadata": {
        "colab": {
          "base_uri": "https://localhost:8080/"
        },
        "id": "Z8Le5vBzLerH",
        "outputId": "ef8e96e4-519b-4dfd-c596-3c9754817be5"
      },
      "outputs": [
        {
          "name": "stdout",
          "output_type": "stream",
          "text": [
            "   x1  x2\n",
            "0   0   0\n",
            "1   0   1\n",
            "2   1   0\n",
            "3   1   1\n",
            "initial weights before training: n[ 0.01743801  1.44345067 -0.87839256]\n",
            "initial weights after training: n[ 0.01743801  1.44345067 -0.57839256]\n",
            "total loss: -1\n",
            "initial weights after training: n[ 0.01743801  1.44345067 -0.27839256]\n",
            "total loss: -1\n",
            "initial weights after training: n[0.01743801 1.44345067 0.02160744]\n",
            "total loss: -1\n",
            "initial weights after training: n[ 0.31743801  1.44345067 -0.27839256]\n",
            "total loss: 1\n",
            "initial weights after training: n[0.31743801 1.44345067 0.02160744]\n",
            "total loss: -1\n",
            "initial weights after training: n[0.31743801 1.44345067 0.02160744]\n",
            "total loss: 0\n",
            "initial weights after training: n[0.31743801 1.44345067 0.02160744]\n",
            "total loss: 0\n",
            "initial weights after training: n[0.31743801 1.44345067 0.02160744]\n",
            "total loss: 0\n",
            "initial weights after training: n[0.31743801 1.44345067 0.02160744]\n",
            "total loss: 0\n",
            "initial weights after training: n[0.31743801 1.44345067 0.02160744]\n",
            "total loss: 0\n"
          ]
        }
      ],
      "source": [
        "import numpy as np\n",
        "import pandas as pd \n",
        "\n",
        "class Perceptron:\n",
        "  def __init__(self, lr, epochs):\n",
        "    self.weights = np.random.randn(3) \n",
        "    print(f\"initial weights before training: n{self.weights}\")\n",
        "    self.lr = lr\n",
        "    self.epochs = epochs \n",
        "\n",
        "\n",
        "  def activationFunction(self, inputs, weights):\n",
        "    z = np.dot(inputs, weights) \n",
        "    return np.where(z > 0, 1, 0)\n",
        "\n",
        "  def fit(self, X, y):\n",
        "    self.X = X\n",
        "    self.y = y\n",
        "\n",
        "    X_with_bias = np.c_[self.X, -np.ones((len(self.X), 1))] \n",
        "    for epoch in range(0,10):\n",
        "      y_hat = self.activationFunction(X_with_bias, self.weights)\n",
        "      self.error = self.y - y_hat\n",
        "      self.weights = self.weights + self.lr * np.dot(X_with_bias.T, self.error) \n",
        "      print(f\"initial weights after training: n{self.weights}\")\n",
        "      total_loss = np.sum(self.error)\n",
        "      print(f\"total loss: {total_loss}\")\n",
        "  def predict(self, X):\n",
        "    X_with_bias = np.c_[X, -np.ones((len(X), 1))]\n",
        "    return self.activationFunction(X_with_bias, self.weights)\n",
        "\n",
        "OR = {\n",
        "    \"x1\": [0,0,1,1],\n",
        "    \"x2\": [0,1,0,1],\n",
        "    \"y\": [0,1,1,1],\n",
        "}\n",
        "df = pd.DataFrame(OR)\n",
        "X=df.drop(\"y\",axis=1)\n",
        "y=df[\"y\"]\n",
        "print(X)\n",
        "LR = 0.3 \n",
        "EPOCHS = 10\n",
        "\n",
        "model = Perceptron(lr=LR, epochs=EPOCHS)\n",
        "model.fit(X, y)\n"
      ]
    }
  ],
  "metadata": {
    "colab": {
      "provenance": []
    },
    "kernelspec": {
      "display_name": "base",
      "language": "python",
      "name": "python3"
    },
    "language_info": {
      "codemirror_mode": {
        "name": "ipython",
        "version": 3
      },
      "file_extension": ".py",
      "mimetype": "text/x-python",
      "name": "python",
      "nbconvert_exporter": "python",
      "pygments_lexer": "ipython3",
      "version": "3.9.7"
    },
    "vscode": {
      "interpreter": {
        "hash": "6970bc899ac28071c9dcbeda9d86cc41d0e455da8c9bbdd05d50310c74a0e27a"
      }
    }
  },
  "nbformat": 4,
  "nbformat_minor": 0
}
