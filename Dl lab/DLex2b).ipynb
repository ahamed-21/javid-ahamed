{
  "nbformat": 4,
  "nbformat_minor": 0,
  "metadata": {
    "colab": {
      "provenance": []
    },
    "kernelspec": {
      "name": "python3",
      "display_name": "Python 3"
    },
    "language_info": {
      "name": "python"
    }
  },
  "cells": [
    {
      "cell_type": "code",
      "execution_count": null,
      "metadata": {
        "id": "2faKCo49aBwC",
        "colab": {
          "base_uri": "https://localhost:8080/",
          "height": 521
        },
        "outputId": "03f2910b-0eae-4bd3-b829-fd0814b54358"
      },
      "outputs": [
        {
          "output_type": "stream",
          "name": "stdout",
          "text": [
            "tensor([[1., 1.],\n",
            "        [1., 0.],\n",
            "        [0., 1.],\n",
            "        [0., 0.]], requires_grad=True)\n",
            "tensor([0, 1, 1, 0])\n",
            "torch.Size([4, 2])\n",
            "torch.Size([4])\n",
            "Sequential(\n",
            "  (0): Linear(in_features=2, out_features=4, bias=True)\n",
            "  (1): Linear(in_features=4, out_features=1, bias=True)\n",
            "  (2): Linear(in_features=1, out_features=1, bias=True)\n",
            "  (3): Sigmoid()\n",
            ")\n"
          ]
        },
        {
          "output_type": "display_data",
          "data": {
            "text/plain": [
              "<Figure size 432x288 with 1 Axes>"
            ],
            "image/png": "[encoded data removed]"
          },
          "metadata": {
            "needs_background": "light"
          }
        }
      ],
      "source": [
        "import torch  \n",
        "import torch.nn as nn  \n",
        "import matplotlib.pyplot as plt  \n",
        "import numpy as np  \n",
        "import torch.nn.functional as F\n",
        "#x=torch.tensor([1,2,3,4,5]) \n",
        "#y=x.pow(4)+x.pow(5)  \n",
        "x=torch.tensor([[1.,1.],[1.,0.],[0.,1.],[0.,0.]],requires_grad=True).float()\n",
        "#x = torch.randn(4, 2, requires_grad=True).float()\n",
        "#x=(torch.rand(size=(4, 2)) < 0.5).float()\n",
        "y = torch.tensor([0,1,1,0])\n",
        "print(x)\n",
        "print(y)\n",
        "print(x.size())\n",
        "print(y.size())\n",
        "model = nn.Sequential(nn.Linear(2, 4),\n",
        "                      nn.Linear(4, 1),\n",
        "                      nn.Linear(1, 1),\n",
        "                      nn.Sigmoid())\n",
        "print(model)\n",
        "optimizer = torch.optim.SGD(model.parameters(), lr=0.01)\n",
        "losses=[]\n",
        "for epoch in range(5000):\n",
        "    pred_y = model(x)\n",
        "    loss = F.nll_loss(F.log_softmax(x, dim=1), y)\n",
        "    losses.append(loss.item())\n",
        "\n",
        "    model.zero_grad()\n",
        "    loss.backward()\n",
        "\n",
        "    optimizer.step()\n",
        "import matplotlib.pyplot as plt\n",
        "plt.plot(losses)\n",
        "plt.ylabel('loss')\n",
        "plt.xlabel('epoch')\n",
        "plt.title(\"Learning rate %f\"%(0.01))\n",
        "plt.show()\n"
      ]
    },
    {
      "cell_type": "code",
      "source": [
        "import torch  \n",
        "import torch.nn as nn  \n",
        "import matplotlib.pyplot as plt  \n",
        "import numpy as np  \n",
        "import torch.nn.functional as F\n",
        "#x=torch.tensor([1,2,3,4,5]) \n",
        "#y=x.pow(4)+x.pow(5)  \n",
        "x=torch.tensor([[1.,1.],[1.,0.],[0.,1.],[0.,0.]],requires_grad=True).float()\n",
        "#x = torch.randn(4, 2, requires_grad=True).float()\n",
        "#x=(torch.rand(size=(4, 2)) < 0.5).float()\n",
        "y = torch.tensor([0,1,1,0])\n",
        "print(x)\n",
        "print(y)\n",
        "print(x.size())\n",
        "print(y.size())\n",
        "class Equ(nn.Module):\n",
        "    def __init__(self):\n",
        "        super(Equ, self).__init__()\n",
        "        self.first_layer = nn.Linear(2, 4)\n",
        "        self.second_layer = nn.Linear(4, 1)\n",
        "        self.final_layer = nn.Linear(1,1)\n",
        "        self.relu = nn.ReLU()\n",
        "    def forward(self, X_batch):\n",
        "        layer_out = self.relu(self.first_layer(X_batch))\n",
        "        layer_out = self.relu(self.second_layer(layer_out))\n",
        "        return self.final_layer(layer_out)\n",
        "model= Equ()\n",
        "print(model)\n",
        "optimizer = torch.optim.SGD(model.parameters(), lr=0.01)\n",
        "losses=[]\n",
        "for epoch in range(5000):\n",
        "    pred_y = model(x)\n",
        "    loss = F.nll_loss(F.log_softmax(x, dim=1), y)\n",
        "    losses.append(loss.item())\n",
        "\n",
        "    model.zero_grad()\n",
        "    loss.backward()\n",
        "\n",
        "    optimizer.step()\n",
        "import matplotlib.pyplot as plt\n",
        "plt.plot(losses)\n",
        "plt.ylabel('loss')\n",
        "plt.xlabel('epoch')\n",
        "plt.title(\"Learning rate %f\"%(0.01))\n",
        "plt.show()\n"
      ],
      "metadata": {
        "colab": {
          "base_uri": "https://localhost:8080/",
          "height": 521
        },
        "id": "7UC--uqXq_97",
        "outputId": "23a51777-1246-4cf1-ce91-26453473fc7a"
      },
      "execution_count": null,
      "outputs": [
        {
          "output_type": "stream",
          "name": "stdout",
          "text": [
            "tensor([[1., 1.],\n",
            "        [1., 0.],\n",
            "        [0., 1.],\n",
            "        [0., 0.]], requires_grad=True)\n",
            "tensor([0, 1, 1, 0])\n",
            "torch.Size([4, 2])\n",
            "torch.Size([4])\n",
            "Equ(\n",
            "  (first_layer): Linear(in_features=2, out_features=4, bias=True)\n",
            "  (second_layer): Linear(in_features=4, out_features=1, bias=True)\n",
            "  (final_layer): Linear(in_features=1, out_features=1, bias=True)\n",
            "  (relu): ReLU()\n",
            ")\n"
          ]
        },
        {
          "output_type": "display_data",
          "data": {
            "text/plain": [
              "<Figure size 432x288 with 1 Axes>"
            ],
            "image/png": "[encoded data removed]"
          },
          "metadata": {
            "needs_background": "light"
          }
        }
      ]
    }
  ]
}