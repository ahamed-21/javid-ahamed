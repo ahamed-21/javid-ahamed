{
 "cells": [
  {
   "cell_type": "code",
   "execution_count": 19,
   "metadata": {},
   "outputs": [],
   "source": [
    "import torch\n",
    "import numpy as np"
   ]
  },
  {
   "cell_type": "code",
   "execution_count": 20,
   "metadata": {},
   "outputs": [
    {
     "data": {
      "text/plain": [
       "tensor([[1.2130, 1.8133, 0.8936],\n",
       "        [1.2047, 0.9287, 1.0943],\n",
       "        [1.3981, 1.2992, 1.2734]])"
      ]
     },
     "execution_count": 20,
     "metadata": {},
     "output_type": "execute_result"
    }
   ],
   "source": [
    "a=torch.rand(3,3)\n",
    "b=torch.rand(3,3)\n",
    "d=torch.add(a,b)\n",
    "d"
   ]
  },
  {
   "cell_type": "code",
   "execution_count": 21,
   "metadata": {},
   "outputs": [
    {
     "data": {
      "text/plain": [
       "tensor([[0.3056, 0.8143, 0.1845],\n",
       "        [0.3524, 0.2120, 0.2692],\n",
       "        [0.4699, 0.3709, 0.3241]])"
      ]
     },
     "execution_count": 21,
     "metadata": {},
     "output_type": "execute_result"
    }
   ],
   "source": [
    "a.mul(b)"
   ]
  },
  {
   "cell_type": "code",
   "execution_count": 22,
   "metadata": {},
   "outputs": [
    {
     "data": {
      "text/plain": [
       "tensor([[2534.5303, 2503.8066, 2508.1692,  ..., 2473.7334, 2526.2769,\n",
       "         2493.0088],\n",
       "        [2508.1909, 2475.0562, 2474.3271,  ..., 2468.6685, 2499.4075,\n",
       "         2482.7920],\n",
       "        [2520.3215, 2511.7490, 2496.9272,  ..., 2491.9861, 2534.5127,\n",
       "         2498.8059],\n",
       "        ...,\n",
       "        [2522.5212, 2505.5327, 2517.2231,  ..., 2493.6333, 2530.7993,\n",
       "         2514.4556],\n",
       "        [2521.1868, 2492.5752, 2503.6968,  ..., 2489.9226, 2541.1785,\n",
       "         2494.7119],\n",
       "        [2517.5435, 2511.0923, 2500.9326,  ..., 2482.4268, 2516.2834,\n",
       "         2496.3523]])"
      ]
     },
     "execution_count": 22,
     "metadata": {},
     "output_type": "execute_result"
    }
   ],
   "source": [
    "a = torch.rand(10000,10000)\n",
    "b = torch.rand(10000,10000)\n",
    "a.matmul(b)"
   ]
  },
  {
   "cell_type": "code",
   "execution_count": 23,
   "metadata": {},
   "outputs": [
    {
     "name": "stdout",
     "output_type": "stream",
     "text": [
      "tensor([2, 3, 4, 5], dtype=torch.int32)\n"
     ]
    }
   ],
   "source": [
    "l=[2,3,4,5]\n",
    "a=np.array(l)\n",
    "arr=torch.from_numpy(a)\n",
    "print(arr)"
   ]
  },
  {
   "cell_type": "code",
   "execution_count": 24,
   "metadata": {},
   "outputs": [
    {
     "name": "stdout",
     "output_type": "stream",
     "text": [
      "tensor([[0., 0., 0.],\n",
      "        [0., 0., 0.]], dtype=torch.float64)\n"
     ]
    }
   ],
   "source": [
    "f=torch.zeros(2,3,dtype=torch.float64)\n",
    "print(f)"
   ]
  },
  {
   "cell_type": "code",
   "execution_count": 25,
   "metadata": {},
   "outputs": [
    {
     "name": "stdout",
     "output_type": "stream",
     "text": [
      "tensor([ 6.,  8., 10.])\n"
     ]
    }
   ],
   "source": [
    "a=torch.tensor([5,6,7],dtype=torch.float)\n",
    "b=torch.tensor([1,2,3],dtype=torch.float)\n",
    "print(a+b)"
   ]
  },
  {
   "cell_type": "code",
   "execution_count": 27,
   "metadata": {},
   "outputs": [
    {
     "data": {
      "text/plain": [
       "tensor(24.)"
      ]
     },
     "execution_count": 27,
     "metadata": {},
     "output_type": "execute_result"
    }
   ],
   "source": [
    "torch.add(a,b).sum()"
   ]
  },
  {
   "cell_type": "code",
   "execution_count": 28,
   "metadata": {},
   "outputs": [
    {
     "data": {
      "text/plain": [
       "tensor(38.)"
      ]
     },
     "execution_count": 28,
     "metadata": {},
     "output_type": "execute_result"
    }
   ],
   "source": [
    "a.dot(b)"
   ]
  },
  {
   "cell_type": "code",
   "execution_count": 29,
   "metadata": {},
   "outputs": [
    {
     "name": "stdout",
     "output_type": "stream",
     "text": [
      "Matrix: tensor([[-0.6406,  0.8734, -0.1498],\n",
      "        [-0.4896, -0.2356,  1.4181],\n",
      "        [-2.2295, -0.4766,  0.7203]])\n"
     ]
    }
   ],
   "source": [
    "mat = torch.randn(3,3)\n",
    "print(\"Matrix:\", mat)"
   ]
  },
  {
   "cell_type": "code",
   "execution_count": 33,
   "metadata": {},
   "outputs": [
    {
     "name": "stdout",
     "output_type": "stream",
     "text": [
      "Determinant: tensor(-2.7340)\n"
     ]
    }
   ],
   "source": [
    "det_mat = torch.det(mat)\n",
    "print(\"Determinant:\", det_mat)"
   ]
  },
  {
   "cell_type": "code",
   "execution_count": null,
   "metadata": {},
   "outputs": [],
   "source": []
  }
 ],
 "metadata": {
  "kernelspec": {
   "display_name": "base",
   "language": "python",
   "name": "python3"
  },
  "language_info": {
   "codemirror_mode": {
    "name": "ipython",
    "version": 3
   },
   "file_extension": ".py",
   "mimetype": "text/x-python",
   "name": "python",
   "nbconvert_exporter": "python",
   "pygments_lexer": "ipython3",
   "version": "3.9.7"
  },
  "orig_nbformat": 4,
  "vscode": {
   "interpreter": {
    "hash": "6970bc899ac28071c9dcbeda9d86cc41d0e455da8c9bbdd05d50310c74a0e27a"
   }
  }
 },
 "nbformat": 4,
 "nbformat_minor": 2
}
