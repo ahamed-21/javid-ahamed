{
  "nbformat": 4,
  "nbformat_minor": 0,
  "metadata": {
    "colab": {
      "provenance": []
    },
    "kernelspec": {
      "name": "python3",
      "display_name": "Python 3"
    },
    "language_info": {
      "name": "python"
    }
  },
  "cells": [
    {
      "cell_type": "code",
      "execution_count": null,
      "metadata": {
        "id": "8p_wC6BOaI_5",
        "colab": {
          "base_uri": "https://localhost:8080/",
          "height": 590
        },
        "outputId": "ce2af5cc-e21d-4ce2-cf77-b148b686a462"
      },
      "outputs": [
        {
          "output_type": "stream",
          "name": "stdout",
          "text": [
            "tensor([[ 0.2551],\n",
            "        [-2.8711],\n",
            "        [-0.1935],\n",
            "        [ 0.9415],\n",
            "        [ 2.3052]])\n",
            "tensor([[ 5.3178e-03],\n",
            "        [-1.2714e+02],\n",
            "        [ 1.1300e-03],\n",
            "        [ 1.5252e+00],\n",
            "        [ 9.3331e+01]])\n",
            "torch.Size([5, 1])\n",
            "torch.Size([5, 1])\n",
            "Sequential(\n",
            "  (0): Linear(in_features=1, out_features=1, bias=True)\n",
            "  (1): Linear(in_features=1, out_features=1, bias=True)\n",
            "  (2): Sigmoid()\n",
            ")\n"
          ]
        },
        {
          "output_type": "display_data",
          "data": {
            "text/plain": [
              "<Figure size 432x288 with 1 Axes>"
            ],
            "image/png": "[encoded data removed]"
          },
          "metadata": {
            "needs_background": "light"
          }
        }
      ],
      "source": [
        "import torch  \n",
        "import torch.nn as nn  \n",
        "import matplotlib.pyplot as plt  \n",
        "import numpy as np  \n",
        "#x=torch.tensor([1,2,3,4,5]) \n",
        "#y=x.pow(4)+x.pow(5)  \n",
        "n_input, n_hidden, n_out, batch_size, learning_rate = 1, 1, 1, 5, 0.01\n",
        "x = torch.randn(batch_size, n_input)\n",
        "y = x.pow(4)+x.pow(5)\n",
        "print(x)\n",
        "print(y)\n",
        "print(x.size())\n",
        "print(y.size())\n",
        "model = nn.Sequential(nn.Linear(n_input, n_hidden),\n",
        "                      nn.Linear(n_hidden, n_out),\n",
        "                      nn.Sigmoid())\n",
        "print(model)\n",
        "def loss_function(y,y_pred):\n",
        "        return ((y_pred-y)**2).mean()\n",
        "optimizer = torch.optim.SGD(model.parameters(), lr=learning_rate)\n",
        "losses = []\n",
        "for epoch in range(5000):\n",
        "    pred_y = model(x)\n",
        "    loss = loss_function(pred_y, y)\n",
        "    losses.append(loss.item())\n",
        "\n",
        "    model.zero_grad()\n",
        "\n",
        "    optimizer.step()\n",
        "import matplotlib.pyplot as plt\n",
        "plt.plot(losses)\n",
        "plt.ylabel('loss')\n",
        "plt.xlabel('epoch')\n",
        "plt.title(\"Learning rate %f\"%(learning_rate))\n",
        "plt.show()\n"
      ]
    },
    {
      "cell_type": "code",
      "source": [
        "import torch  \n",
        "import torch.nn as nn  \n",
        "import matplotlib.pyplot as plt  \n",
        "import numpy as np  \n",
        "#x=torch.tensor([1,2,3,4,5]) \n",
        "#y=x.pow(4)+x.pow(5)  \n",
        "n_input, n_hidden, n_out, batch_size, learning_rate = 1, 1, 1, 5, 0.01\n",
        "x = torch.randn(batch_size, n_input)\n",
        "y = x.pow(4)+x.pow(5)\n",
        "print(x)\n",
        "print(y)\n",
        "print(x.size())\n",
        "print(y.size())\n",
        "class Equ(nn.Module):\n",
        "    def __init__(self):\n",
        "        super(Equ, self).__init__()\n",
        "        self.first_layer = nn.Linear(n_input, n_hidden)\n",
        "        self.final_layer = nn.Linear(n_hidden,n_out)\n",
        "        self.relu = nn.ReLU()\n",
        "    def forward(self, X_batch):\n",
        "        layer_out = self.relu(self.first_layer(X_batch))\n",
        "        return self.final_layer(layer_out)\n",
        "model= Equ()\n",
        "def loss_function(y,y_pred):\n",
        "        return ((y_pred-y)**2).mean()\n",
        "optimizer = torch.optim.SGD(model.parameters(), lr=learning_rate)\n",
        "losses = []\n",
        "for epoch in range(5000):\n",
        "    pred_y = model(x)\n",
        "    loss = loss_function(pred_y, y)\n",
        "    losses.append(loss.item())\n",
        "\n",
        "    model.zero_grad()\n",
        "\n",
        "    optimizer.step()\n",
        "import matplotlib.pyplot as plt\n",
        "plt.plot(losses)\n",
        "plt.ylabel('loss')\n",
        "plt.xlabel('epoch')\n",
        "plt.title(\"Learning rate %f\"%(learning_rate))\n",
        "plt.show()\n"
      ],
      "metadata": {
        "colab": {
          "base_uri": "https://localhost:8080/",
          "height": 503
        },
        "id": "rb-4ipOBnJcW",
        "outputId": "125386a1-bbc5-4b65-d8c2-26f698cf3ccc"
      },
      "execution_count": null,
      "outputs": [
        {
          "output_type": "stream",
          "name": "stdout",
          "text": [
            "tensor([[-0.6194],\n",
            "        [ 0.3120],\n",
            "        [ 0.7223],\n",
            "        [ 0.5970],\n",
            "        [ 0.4674]])\n",
            "tensor([[0.0560],\n",
            "        [0.0124],\n",
            "        [0.4688],\n",
            "        [0.2028],\n",
            "        [0.0701]])\n",
            "torch.Size([5, 1])\n",
            "torch.Size([5, 1])\n"
          ]
        },
        {
          "output_type": "display_data",
          "data": {
            "text/plain": [
              "<Figure size 432x288 with 1 Axes>"
            ],
            "image/png": "[encoded data removed]"
          },
          "metadata": {
            "needs_background": "light"
          }
        }
      ]
    }
  ]
}